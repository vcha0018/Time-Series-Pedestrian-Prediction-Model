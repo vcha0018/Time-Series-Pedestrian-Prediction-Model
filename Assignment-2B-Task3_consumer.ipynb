{
 "cells": [
  {
   "cell_type": "markdown",
   "metadata": {},
   "source": [
    "# FIT5202 Data processing for Big data\n",
    "\n",
    "##  Activity: Assignment 2 Part B\n",
    "\n",
    "### Task 3\n",
    "\n",
    "##### Student ID: `31265154`\n",
    "##### Student Name: `Vivekkumar Chaudhari`\n",
    "\n",
    "\n",
    "### Table of Contents\n",
    "\n",
    "\n",
    "* [1. Installing Map Library](#one)\n",
    "    * [1.1 Installing \"ipyleaflet\"](#oneone)\n",
    "    * [1.2 Enable ipyleaflet extension to display map on notebook](#onetwo)\n",
    "    * [1.3 Restart kernel and Reload this notebook by refreshing webpage then run code](#onethree)\n",
    "* [2. Consuming Kafka topic and showing data on map](#two)"
   ]
  },
  {
   "cell_type": "markdown",
   "metadata": {},
   "source": [
    "<a class=\"anchor\" name=\"one\"></a>\n",
    "## 1. Installing Map Library\n",
    "<a class=\"anchor\" name=\"oneone\"></a>\n",
    "### 1.1 Installing \"ipyleaflet\""
   ]
  },
  {
   "cell_type": "code",
   "execution_count": 1,
   "metadata": {
    "scrolled": true
   },
   "outputs": [
    {
     "name": "stdout",
     "output_type": "stream",
     "text": [
      "Requirement already satisfied: ipyleaflet in /home/student/.local/lib/python3.8/site-packages (0.13.6)\n",
      "Requirement already satisfied: branca<0.5,>=0.3.1 in /home/student/.local/lib/python3.8/site-packages (from ipyleaflet) (0.4.2)\n",
      "Requirement already satisfied: ipywidgets<8,>=7.6.0 in /home/student/.local/lib/python3.8/site-packages (from ipyleaflet) (7.6.3)\n",
      "Requirement already satisfied: traittypes<3,>=0.2.1 in /home/student/.local/lib/python3.8/site-packages (from ipyleaflet) (0.2.1)\n",
      "Requirement already satisfied: shapely in /home/student/.local/lib/python3.8/site-packages (from ipyleaflet) (1.7.1)\n",
      "Requirement already satisfied: jinja2 in /home/student/.local/lib/python3.8/site-packages (from branca<0.5,>=0.3.1->ipyleaflet) (2.11.2)\n",
      "Requirement already satisfied: traitlets>=4.3.1 in /home/student/.local/lib/python3.8/site-packages (from ipywidgets<8,>=7.6.0->ipyleaflet) (4.3.3)\n",
      "Requirement already satisfied: jupyterlab-widgets>=1.0.0; python_version >= \"3.6\" in /home/student/.local/lib/python3.8/site-packages (from ipywidgets<8,>=7.6.0->ipyleaflet) (1.0.0)\n",
      "Requirement already satisfied: ipython>=4.0.0; python_version >= \"3.3\" in /home/student/.local/lib/python3.8/site-packages (from ipywidgets<8,>=7.6.0->ipyleaflet) (7.16.1)\n",
      "Requirement already satisfied: nbformat>=4.2.0 in /home/student/.local/lib/python3.8/site-packages (from ipywidgets<8,>=7.6.0->ipyleaflet) (5.0.7)\n",
      "Requirement already satisfied: ipykernel>=4.5.1 in /home/student/.local/lib/python3.8/site-packages (from ipywidgets<8,>=7.6.0->ipyleaflet) (5.3.3)\n",
      "Requirement already satisfied: widgetsnbextension~=3.5.0 in /home/student/.local/lib/python3.8/site-packages (from ipywidgets<8,>=7.6.0->ipyleaflet) (3.5.1)\n",
      "Requirement already satisfied: MarkupSafe>=0.23 in /home/student/.local/lib/python3.8/site-packages (from jinja2->branca<0.5,>=0.3.1->ipyleaflet) (1.1.1)\n",
      "Requirement already satisfied: six in /usr/lib/python3/dist-packages (from traitlets>=4.3.1->ipywidgets<8,>=7.6.0->ipyleaflet) (1.14.0)\n",
      "Requirement already satisfied: ipython-genutils in /home/student/.local/lib/python3.8/site-packages (from traitlets>=4.3.1->ipywidgets<8,>=7.6.0->ipyleaflet) (0.2.0)\n",
      "Requirement already satisfied: decorator in /home/student/.local/lib/python3.8/site-packages (from traitlets>=4.3.1->ipywidgets<8,>=7.6.0->ipyleaflet) (4.4.2)\n",
      "Requirement already satisfied: setuptools>=18.5 in /usr/lib/python3/dist-packages (from ipython>=4.0.0; python_version >= \"3.3\"->ipywidgets<8,>=7.6.0->ipyleaflet) (45.2.0)\n",
      "Requirement already satisfied: jedi>=0.10 in /home/student/.local/lib/python3.8/site-packages (from ipython>=4.0.0; python_version >= \"3.3\"->ipywidgets<8,>=7.6.0->ipyleaflet) (0.17.2)\n",
      "Requirement already satisfied: backcall in /home/student/.local/lib/python3.8/site-packages (from ipython>=4.0.0; python_version >= \"3.3\"->ipywidgets<8,>=7.6.0->ipyleaflet) (0.2.0)\n",
      "Requirement already satisfied: pickleshare in /home/student/.local/lib/python3.8/site-packages (from ipython>=4.0.0; python_version >= \"3.3\"->ipywidgets<8,>=7.6.0->ipyleaflet) (0.7.5)\n",
      "Requirement already satisfied: prompt-toolkit!=3.0.0,!=3.0.1,<3.1.0,>=2.0.0 in /home/student/.local/lib/python3.8/site-packages (from ipython>=4.0.0; python_version >= \"3.3\"->ipywidgets<8,>=7.6.0->ipyleaflet) (3.0.5)\n",
      "Requirement already satisfied: pexpect; sys_platform != \"win32\" in /usr/lib/python3/dist-packages (from ipython>=4.0.0; python_version >= \"3.3\"->ipywidgets<8,>=7.6.0->ipyleaflet) (4.6.0)\n",
      "Requirement already satisfied: pygments in /home/student/.local/lib/python3.8/site-packages (from ipython>=4.0.0; python_version >= \"3.3\"->ipywidgets<8,>=7.6.0->ipyleaflet) (2.6.1)\n",
      "Requirement already satisfied: jupyter-core in /home/student/.local/lib/python3.8/site-packages (from nbformat>=4.2.0->ipywidgets<8,>=7.6.0->ipyleaflet) (4.6.3)\n",
      "Requirement already satisfied: jsonschema!=2.5.0,>=2.4 in /home/student/.local/lib/python3.8/site-packages (from nbformat>=4.2.0->ipywidgets<8,>=7.6.0->ipyleaflet) (3.2.0)\n",
      "Requirement already satisfied: jupyter-client in /home/student/.local/lib/python3.8/site-packages (from ipykernel>=4.5.1->ipywidgets<8,>=7.6.0->ipyleaflet) (6.1.6)\n",
      "Requirement already satisfied: tornado>=4.2 in /home/student/.local/lib/python3.8/site-packages (from ipykernel>=4.5.1->ipywidgets<8,>=7.6.0->ipyleaflet) (6.0.4)\n",
      "Requirement already satisfied: notebook>=4.4.1 in /home/student/.local/lib/python3.8/site-packages (from widgetsnbextension~=3.5.0->ipywidgets<8,>=7.6.0->ipyleaflet) (6.0.3)\n",
      "Requirement already satisfied: parso<0.8.0,>=0.7.0 in /home/student/.local/lib/python3.8/site-packages (from jedi>=0.10->ipython>=4.0.0; python_version >= \"3.3\"->ipywidgets<8,>=7.6.0->ipyleaflet) (0.7.0)\n",
      "Requirement already satisfied: wcwidth in /home/student/.local/lib/python3.8/site-packages (from prompt-toolkit!=3.0.0,!=3.0.1,<3.1.0,>=2.0.0->ipython>=4.0.0; python_version >= \"3.3\"->ipywidgets<8,>=7.6.0->ipyleaflet) (0.2.5)\n",
      "Requirement already satisfied: attrs>=17.4.0 in /home/student/.local/lib/python3.8/site-packages (from jsonschema!=2.5.0,>=2.4->nbformat>=4.2.0->ipywidgets<8,>=7.6.0->ipyleaflet) (19.3.0)\n",
      "Requirement already satisfied: pyrsistent>=0.14.0 in /home/student/.local/lib/python3.8/site-packages (from jsonschema!=2.5.0,>=2.4->nbformat>=4.2.0->ipywidgets<8,>=7.6.0->ipyleaflet) (0.16.0)\n",
      "Requirement already satisfied: pyzmq>=13 in /home/student/.local/lib/python3.8/site-packages (from jupyter-client->ipykernel>=4.5.1->ipywidgets<8,>=7.6.0->ipyleaflet) (19.0.1)\n",
      "Requirement already satisfied: python-dateutil>=2.1 in /usr/lib/python3/dist-packages (from jupyter-client->ipykernel>=4.5.1->ipywidgets<8,>=7.6.0->ipyleaflet) (2.7.3)\n",
      "Requirement already satisfied: terminado>=0.8.1 in /home/student/.local/lib/python3.8/site-packages (from notebook>=4.4.1->widgetsnbextension~=3.5.0->ipywidgets<8,>=7.6.0->ipyleaflet) (0.8.3)\n",
      "Requirement already satisfied: Send2Trash in /home/student/.local/lib/python3.8/site-packages (from notebook>=4.4.1->widgetsnbextension~=3.5.0->ipywidgets<8,>=7.6.0->ipyleaflet) (1.5.0)\n",
      "Requirement already satisfied: nbconvert in /home/student/.local/lib/python3.8/site-packages (from notebook>=4.4.1->widgetsnbextension~=3.5.0->ipywidgets<8,>=7.6.0->ipyleaflet) (5.6.1)\n",
      "Requirement already satisfied: prometheus-client in /home/student/.local/lib/python3.8/site-packages (from notebook>=4.4.1->widgetsnbextension~=3.5.0->ipywidgets<8,>=7.6.0->ipyleaflet) (0.8.0)\n",
      "Requirement already satisfied: ptyprocess; os_name != \"nt\" in /home/student/.local/lib/python3.8/site-packages (from terminado>=0.8.1->notebook>=4.4.1->widgetsnbextension~=3.5.0->ipywidgets<8,>=7.6.0->ipyleaflet) (0.6.0)\n",
      "Requirement already satisfied: mistune<2,>=0.8.1 in /home/student/.local/lib/python3.8/site-packages (from nbconvert->notebook>=4.4.1->widgetsnbextension~=3.5.0->ipywidgets<8,>=7.6.0->ipyleaflet) (0.8.4)\n",
      "Requirement already satisfied: bleach in /home/student/.local/lib/python3.8/site-packages (from nbconvert->notebook>=4.4.1->widgetsnbextension~=3.5.0->ipywidgets<8,>=7.6.0->ipyleaflet) (3.1.5)\n",
      "Requirement already satisfied: pandocfilters>=1.4.1 in /home/student/.local/lib/python3.8/site-packages (from nbconvert->notebook>=4.4.1->widgetsnbextension~=3.5.0->ipywidgets<8,>=7.6.0->ipyleaflet) (1.4.2)\n",
      "Requirement already satisfied: entrypoints>=0.2.2 in /usr/lib/python3/dist-packages (from nbconvert->notebook>=4.4.1->widgetsnbextension~=3.5.0->ipywidgets<8,>=7.6.0->ipyleaflet) (0.3)\n",
      "Requirement already satisfied: testpath in /home/student/.local/lib/python3.8/site-packages (from nbconvert->notebook>=4.4.1->widgetsnbextension~=3.5.0->ipywidgets<8,>=7.6.0->ipyleaflet) (0.4.4)\n",
      "Requirement already satisfied: defusedxml in /home/student/.local/lib/python3.8/site-packages (from nbconvert->notebook>=4.4.1->widgetsnbextension~=3.5.0->ipywidgets<8,>=7.6.0->ipyleaflet) (0.6.0)\n",
      "Requirement already satisfied: packaging in /home/student/.local/lib/python3.8/site-packages (from bleach->nbconvert->notebook>=4.4.1->widgetsnbextension~=3.5.0->ipywidgets<8,>=7.6.0->ipyleaflet) (20.4)\n",
      "Requirement already satisfied: webencodings in /home/student/.local/lib/python3.8/site-packages (from bleach->nbconvert->notebook>=4.4.1->widgetsnbextension~=3.5.0->ipywidgets<8,>=7.6.0->ipyleaflet) (0.5.1)\n",
      "Requirement already satisfied: pyparsing>=2.0.2 in /home/student/.local/lib/python3.8/site-packages (from packaging->bleach->nbconvert->notebook>=4.4.1->widgetsnbextension~=3.5.0->ipywidgets<8,>=7.6.0->ipyleaflet) (2.4.7)\n",
      "Enabling notebook extension jupyter-js-widgets/extension...\n",
      "      - Validating: \u001b[32mOK\u001b[0m\n",
      "Enabling notebook extension jupyter-leaflet/extension...\n",
      "      - Validating: \u001b[32mOK\u001b[0m\n"
     ]
    }
   ],
   "source": [
    "## Step 1: Installing required map ipyleaflet \n",
    "!pip install ipyleaflet\n",
    "\n",
    "## Step 2: Enable ipyleaflet extension to display map on notebook \n",
    "!jupyter nbextension enable --py widgetsnbextension\n",
    "!jupyter nbextension enable --py ipyleaflet\n",
    "\n"
   ]
  },
  {
   "cell_type": "markdown",
   "metadata": {},
   "source": [
    "<a class=\"anchor\" name=\"onetwo\"></a>\n",
    "### 1.2 Enable ipyleaflet extension to display map on notebook "
   ]
  },
  {
   "cell_type": "code",
   "execution_count": 2,
   "metadata": {},
   "outputs": [
    {
     "name": "stdout",
     "output_type": "stream",
     "text": [
      "Enabling notebook extension jupyter-js-widgets/extension...\n",
      "      - Validating: \u001b[32mOK\u001b[0m\n",
      "Enabling notebook extension jupyter-leaflet/extension...\n",
      "      - Validating: \u001b[32mOK\u001b[0m\n"
     ]
    }
   ],
   "source": [
    "!jupyter nbextension enable --py widgetsnbextension\n",
    "!jupyter nbextension enable --py ipyleaflet"
   ]
  },
  {
   "cell_type": "markdown",
   "metadata": {},
   "source": [
    "<a class=\"anchor\" name=\"onethree\"></a>\n",
    "### 1.3 Restart kernel and Reload this notebook by refreshing webpage then run code. \n",
    "#### Note: If code does not show map then try to Restart jupyter notebook on ubuntu then run code."
   ]
  },
  {
   "cell_type": "markdown",
   "metadata": {},
   "source": [
    "<a class=\"anchor\" name=\"two\"></a>\n",
    "## 2. Consuming Kafka topic and showing data on map\n",
    "\n",
    "<h3>About map: &nbsp;</h3><p><span style=\"font-size: 15px;\">It shows predictions on pedestrian count when it goes higher than 2000 at a given location at specific date-time.</span></p><p><strong>Markers on the map:</strong></p><p>Each marker on the map represent the sensor location with the following details:</p><p><strong><em>Sensor id</em></strong>: Sensor identification&nbsp;number</p><p><strong><em>Sensor name</em></strong>: based on sensor description</p><p><strong><em>Date</em></strong>: Prediction date in the format: YYYY-MM-DD</p><p><strong><em>Busiest Time</em></strong>: Peak hour of the Date</p><p><em><strong><u>Note</u></strong></em><em>: Click on a marker on the map to see details</em></p>"
   ]
  },
  {
   "cell_type": "code",
   "execution_count": null,
   "metadata": {
    "scrolled": false
   },
   "outputs": [
    {
     "data": {
      "application/vnd.jupyter.widget-view+json": {
       "model_id": "4ed8bb6bcfd84dc48b2a5e899da3b607",
       "version_major": 2,
       "version_minor": 0
      },
      "text/plain": [
       "Map(center=[-37.81380844116211, 144.9651641845703], controls=(ZoomControl(options=['position', 'zoom_in_text',…"
      ]
     },
     "metadata": {},
     "output_type": "display_data"
    }
   ],
   "source": [
    "# importing required libraries\n",
    "import ast\n",
    "from time import sleep\n",
    "from kafka import KafkaConsumer\n",
    "import datetime as dt\n",
    "from json import loads\n",
    "from ipyleaflet import Map, Marker, MarkerCluster, ScaleControl, FullScreenControl\n",
    "from ipywidgets import HTML\n",
    "import pandas as pd\n",
    "\n",
    "topic = 'Pedestrian_data_Prediction_Location'\n",
    "\n",
    "def connect_kafka_consumer():\n",
    "    _consumer = None\n",
    "    try:\n",
    "         _consumer = KafkaConsumer(topic,\n",
    "                                   consumer_timeout_ms=20000, # stop iteration if no message after 20 sec\n",
    "                                   auto_offset_reset='latest', # we want to consume latest available message\n",
    "                                   bootstrap_servers=['localhost:9092'], # we are using same location and port set in task 2. \n",
    "                                   api_version=(0, 10))\n",
    "    except Exception as ex:\n",
    "        print('Exception while connecting Kafka')\n",
    "        print(str(ex))\n",
    "    finally:\n",
    "        return _consumer\n",
    "\n",
    "# Plotting real-time data on map using creating new markers every time \n",
    "def add_marker_on_map(imap, marker_cluster, new_markers):\n",
    "    # Remove previous cluster layer to maintain cluster with new data\n",
    "    imap.remove_layer(marker_cluster)\n",
    "    marker_cluster = MarkerCluster(markers=tuple(new_markers))\n",
    "    # Adding new cluster with updated/new data\n",
    "    imap.add_layer(marker_cluster)\n",
    "    return marker_cluster\n",
    "\n",
    "# Retrive marker list based on:\n",
    "# One marker represent: Busiest hour for a sensor in a given day \n",
    "def get_marker_list(df):\n",
    "    marker_list = []\n",
    "    df_grouped_max = df.loc[df.groupby(['sid', 'mdate'], sort=False)['prediction'].idxmax()]\n",
    "    df_grouped_max = df_grouped_max.reset_index()\n",
    "    for row in df_grouped_max.itertuples():\n",
    "        location_alt = [float(getattr(row, 'latitude')), float(getattr(row, 'longitude'))]\n",
    "        # creating popup text for marker on map.\n",
    "        poupup_text = HTML()\n",
    "        poupup_text.value = f'\\\n",
    "            <p>\\\n",
    "                Sensor id: <span style=\"color: rgb(226, 80, 65);\">{getattr(row, \"sid\")}</span><br>\\\n",
    "                Sensor name: <span style=\"color: rgb(226, 80, 65);\">{getattr(row, \"sname\")}</span><br>\\\n",
    "                Date: <span style=\"color: rgb(65, 168, 95);\">{getattr(row, \"mdate\")} (Year-Month-Date)</span><br>\\\n",
    "                Busiest Time: <span style=\"color: rgb(147, 101, 184);\">{getattr(row, \"time\")}:00 (24hr)</span>\\\n",
    "            </p>'\n",
    "        # Creating marker for each sensor with busiest hour in each day.\n",
    "        marker = Marker(location=location_alt, draggable=False)\n",
    "        marker.popup = poupup_text\n",
    "        marker_list.append(marker)\n",
    "    return marker_list\n",
    "\n",
    "# Consume message from kafka topic for further processing.\n",
    "def consume_messages(consumer):\n",
    "    try:\n",
    "        pre_len = 0\n",
    "        imap = None\n",
    "        marker_cluster = None\n",
    "        df = None\n",
    "        # Waiting for messages\n",
    "        for message in consumer:\n",
    "            # Decoding message from bytes to string\n",
    "            data = str(message.value.decode('utf-8'))\n",
    "            # converting \"value\" string to dictionary object\n",
    "            data = ast.literal_eval(data)\n",
    "            location_alt = [float(data['latitude']), float(data['longitude'])]\n",
    "            if not imap:\n",
    "                df = pd.DataFrame(data, index=[i for i in range(len(data))])\n",
    "                # Initializing the map with Scaling and Fullscreen controls\n",
    "                imap = Map(center=location_alt, dragging=True, scroll_wheel_zoom=True, zoom=15)\n",
    "                imap.add_control(ScaleControl(position='bottomleft'))\n",
    "                imap.add_control(FullScreenControl())\n",
    "                # Creating cluster of markers(locations) that display number on map for very near locations\n",
    "                marker_cluster = MarkerCluster(markers=tuple(get_marker_list(df)))\n",
    "                imap.add_layer(marker_cluster)\n",
    "                display(imap)\n",
    "            else:\n",
    "                df = df.append(data, ignore_index=True)\n",
    "                marker_list = get_marker_list(df)\n",
    "                if(len(marker_list) - pre_len >= 10):\n",
    "                    pre_len = len(marker_list)\n",
    "                    marker_cluster = add_marker_on_map(imap, marker_cluster, marker_list)\n",
    "    except Exception as ex:\n",
    "        print(str(ex))\n",
    "    \n",
    "# Main execution flow\n",
    "if __name__ == '__main__':\n",
    "    consumer = connect_kafka_consumer()\n",
    "    consume_messages(consumer)"
   ]
  },
  {
   "cell_type": "code",
   "execution_count": null,
   "metadata": {},
   "outputs": [],
   "source": []
  }
 ],
 "metadata": {
  "kernelspec": {
   "display_name": "Python 3",
   "language": "python",
   "name": "python3"
  },
  "language_info": {
   "codemirror_mode": {
    "name": "ipython",
    "version": 3
   },
   "file_extension": ".py",
   "mimetype": "text/x-python",
   "name": "python",
   "nbconvert_exporter": "python",
   "pygments_lexer": "ipython3",
   "version": "3.8.5"
  }
 },
 "nbformat": 4,
 "nbformat_minor": 4
}
